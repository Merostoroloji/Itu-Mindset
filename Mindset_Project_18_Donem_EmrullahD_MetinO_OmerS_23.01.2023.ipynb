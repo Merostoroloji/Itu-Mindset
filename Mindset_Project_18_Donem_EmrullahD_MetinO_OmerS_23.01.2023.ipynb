{
 "cells": [
  {
   "cell_type": "markdown",
   "metadata": {},
   "source": [
    "# ITU MINDSET DATA SCIENCE PROJECT\n",
    "\n",
    "   #### Team Member 1: Emrullah DAĞ\n",
    "   #### Team Member 2: Metin ÖKTEM\n",
    "   #### Team Member 3: Ömer Faruk SOY\n",
    "   \n",
    "   #### DATE: 29.01.2024"
   ]
  },
  {
   "cell_type": "markdown",
   "metadata": {},
   "source": [
    "# 1. Import Packages"
   ]
  },
  {
   "cell_type": "code",
   "execution_count": null,
   "metadata": {
    "_cell_guid": "b1076dfc-b9ad-4769-8c92-a6c4dae69d19",
    "_uuid": "8f2839f25d086af736a60e9eeb907d3b93b6e0e5",
    "execution": {
     "iopub.execute_input": "2024-01-13T11:57:40.192525Z",
     "iopub.status.busy": "2024-01-13T11:57:40.191610Z",
     "iopub.status.idle": "2024-01-13T11:57:40.200824Z",
     "shell.execute_reply": "2024-01-13T11:57:40.199892Z",
     "shell.execute_reply.started": "2024-01-13T11:57:40.192488Z"
    }
   },
   "outputs": [],
   "source": [
    "# Used for scientific computations.\n",
    "import numpy as np \n",
    "\n",
    "# Used for data analysis and manipulation.\n",
    "import pandas as pd \n",
    "\n",
    "# Used to control warning messages in a Python program.\n",
    "import warnings \n",
    "warnings.filterwarnings('ignore')\n",
    "\n",
    "# Used for data visualization.\n",
    "import seaborn as sns\n",
    "import matplotlib.pyplot as plt  \n",
    "import IPython\n",
    "import plotly.express as px\n",
    "import plotly.graph_objects as go\n",
    "from ipywidgets import VBox\n",
    "from scipy import stats\n",
    "\n",
    "# Splits the dataset into training and testing sets.\n",
    "from sklearn.model_selection import train_test_split\n",
    "\n",
    "# Modelling methods.\n",
    "from sklearn.linear_model import LinearRegression\n",
    "from sklearn.ensemble import RandomForestRegressor as randomForestRegressor\n",
    "from xgboost import XGBRegressor\n",
    "\n",
    "# Evaluate regression model performance.\n",
    "from sklearn.metrics import mean_absolute_error, mean_squared_error, r2_score\n",
    "\n",
    "# Standardilization for deep learning model\n",
    "from sklearn.preprocessing import StandardScaler\n",
    "\n",
    "# Build deep learning models.\n",
    "import tensorflow as tf\n",
    "from tensorflow import keras\n",
    "from tensorflow.keras import layers\n",
    "from tensorflow.keras.optimizers import Adam\n",
    "from tensorflow.keras.callbacks import EarlyStopping\n",
    "\n",
    "# These libraries are used for various tasks in data processing, machine learning and deep learning."
   ]
  },
  {
   "cell_type": "markdown",
   "metadata": {},
   "source": [
    "# 2.  Description of Data"
   ]
  },
  {
   "cell_type": "markdown",
   "metadata": {},
   "source": [
    "## 2.1 Feature Dictionary\n",
    "\n",
    "* Brand: The brand or manufacturer of the vehicle.\n",
    "\n",
    "* Year: The year the vehicle was manufactured.\n",
    "\n",
    "* Model: The specific model name or identifier of the vehicle.\n",
    "\n",
    "* Car/Suv: Indicates whether the vehicle is a car or an SUV.\n",
    "\n",
    "* Title: The title status of the vehicle (e.g., clean title, salvage title).\n",
    "\n",
    "* UsedOrNew: Indicates whether the vehicle is used or new.\n",
    "\n",
    "* Transmission: The type of transmission the vehicle has (e.g., automatic, manual).\n",
    "\n",
    "* Engine: Details about the vehicle's engine, which may include information like engine type, size, or configuration.\n",
    "\n",
    "* DriveType: The type of drive the vehicle uses (e.g., front-wheel drive, rear-wheel drive, all-wheel drive).\n",
    "\n",
    "* FuelType: The type of fuel the vehicle uses (e.g., gasoline, diesel, electric).\n",
    "\n",
    "* FuelConsumption: Information about the vehicle's fuel consumption.\n",
    "\n",
    "* Kilometres: The number of kilometers the vehicle has been driven.\n",
    "\n",
    "* ColourExtInt: The exterior and interior colors of the vehicle.\n",
    "\n",
    "* Location: The geographical location or region where the vehicle is located.\n",
    "\n",
    "* CylindersinEngine: The number of cylinders in the vehicle's engine.\n",
    "\n",
    "* BodyType: The body type of the vehicle (e.g., sedan, coupe, SUV).\n",
    "\n",
    "* Doors: The number of doors on the vehicle.\n",
    "\n",
    "* Seats: The number of seats in the vehicle.\n",
    "\n",
    "* Price: The price of the vehicle."
   ]
  },
  {
   "cell_type": "markdown",
   "metadata": {},
   "source": [
    "## 2.2  Get Data\n",
    "### This data has been imported from the Kaggle dataset available at: https://www.kaggle.com/datasets/nelgiriyewithana/australian-vehicle-prices.\n"
   ]
  },
  {
   "cell_type": "code",
   "execution_count": null,
   "metadata": {},
   "outputs": [],
   "source": [
    "path = \"/Users/apple/Downloads/Australian Vehicle Prices.csv\""
   ]
  },
  {
   "cell_type": "code",
   "execution_count": null,
   "metadata": {},
   "outputs": [],
   "source": [
    "df = pd.read_csv(path)"
   ]
  },
  {
   "cell_type": "code",
   "execution_count": null,
   "metadata": {},
   "outputs": [],
   "source": [
    "df.head()"
   ]
  },
  {
   "cell_type": "markdown",
   "metadata": {},
   "source": [
    "# 3. Data Processing"
   ]
  },
  {
   "cell_type": "markdown",
   "metadata": {},
   "source": [
    "## 3.1 Structure of the data"
   ]
  },
  {
   "cell_type": "code",
   "execution_count": null,
   "metadata": {
    "execution": {
     "iopub.execute_input": "2024-01-13T11:57:40.339434Z",
     "iopub.status.busy": "2024-01-13T11:57:40.338724Z",
     "iopub.status.idle": "2024-01-13T11:57:40.448667Z",
     "shell.execute_reply": "2024-01-13T11:57:40.447635Z",
     "shell.execute_reply.started": "2024-01-13T11:57:40.339392Z"
    },
    "scrolled": false
   },
   "outputs": [],
   "source": [
    "def get_know_data(data):\n",
    "    if isinstance(data, (pd.DataFrame, pd.Series)):\n",
    "        print(\"-\"*70)\n",
    "        print(\"\\033[1m\"+\"\\nDataset overall informations:\\n\"+ \"\\033[0m\")\n",
    "        print(data.info())\n",
    "        print(\"-\"*70)\n",
    "        print(\"\\033[1m\"+\"\\nTake a statistical look:\\n\"+ \"\\033[0m\")\n",
    "        print(data.describe())\n",
    "        print(\"-\"*70)\n",
    "        print(\"\\033[1m\"+\"\\n Duplicated values count:\\n\"+ \"\\033[0m\")\n",
    "        print(df.duplicated().sum())\n",
    "        print(\"\\033[1m\"+\"\\n NaN values:\\n\"+ \"\\033[0m\")\n",
    "        print(df.isnull().sum())\n",
    "        print(\"-\"*70)\n",
    "        print(\"\\033[1m\"+\"\\nSize of dataset: \\n \"+ \"\\033[0m\")\n",
    "        print(\"Columns:\\t{}\".format(df.shape[1]))\n",
    "        print(\"Rows:\\t\\t{}\".format(df.shape[0]))\n",
    "    else:\n",
    "        print(\"\\033[1m\"+\"\\nError: Out of use data type. Expected Dataframe or Series.\\n\"+ \"\\033[0m\")\n",
    "        \n",
    "get_know_data(df)"
   ]
  },
  {
   "cell_type": "code",
   "execution_count": null,
   "metadata": {},
   "outputs": [],
   "source": [
    "df_box = df.copy()\n",
    "df_box[\"FuelConsumption\"] = df_box['FuelConsumption'].str.split(' L / 100 km', expand=True)[0]\n",
    "df_box[\"FuelConsumption\"] = pd.to_numeric(df_box[\"FuelConsumption\"], errors='coerce')\n",
    "sns.boxplot(df_box[\"FuelConsumption\"])"
   ]
  },
  {
   "cell_type": "code",
   "execution_count": null,
   "metadata": {},
   "outputs": [],
   "source": [
    "sns.boxplot(df[\"Year\"])"
   ]
  },
  {
   "cell_type": "code",
   "execution_count": null,
   "metadata": {},
   "outputs": [],
   "source": [
    "df_box = df_box[df_box[\"Price\"] != 1500000]\n",
    "df_box[\"Price\"] = pd.to_numeric(df_box[\"Price\"], errors='coerce')\n",
    "sns.boxplot(df_box[\"Price\"])"
   ]
  },
  {
   "cell_type": "code",
   "execution_count": null,
   "metadata": {},
   "outputs": [],
   "source": [
    "df_box = df_box[df_box[\"Price\"] < 200000]\n",
    "df_box[\"Price\"] = pd.to_numeric(df_box[\"Price\"], errors='coerce')\n",
    "sns.boxplot(df_box[\"Price\"])"
   ]
  },
  {
   "cell_type": "code",
   "execution_count": null,
   "metadata": {
    "scrolled": false
   },
   "outputs": [],
   "source": [
    "df_visual = df.copy()\n",
    "df_visual.drop(['Title','ColourExtInt','Model','Location','Car/Suv',\"Engine\"],axis=1,inplace=True)\n",
    "\n",
    "\n",
    "df_visual[\"Seats\"] = df_visual['Seats'].str.split(' Seats', expand=True)[0]\n",
    "df_visual[\"Doors\"] = df_visual['Doors'].str.split(' Doors', expand=True)[0]\n",
    "df_visual[\"CylindersinEngine\"] = df_visual['CylindersinEngine'].str.split(' cyl', expand=True)[0]\n",
    "\n",
    "columns = [\"Kilometres\",\"Seats\",\"Price\",\"Doors\",\"CylindersinEngine\"]\n",
    "for column in columns:\n",
    "    df_visual[column] = pd.to_numeric(df_visual[column], errors='coerce')\n",
    "df_visual.dropna()\n",
    "\n",
    "\n",
    "numeric_columns = df_visual.select_dtypes(include=['float64', 'int64']).columns\n",
    "corr = df_visual[numeric_columns].corr()\n",
    "\n",
    "\n",
    "plt.figure(figsize=(10, 8))\n",
    "sns.heatmap(corr, annot=True, cmap='coolwarm', fmt='.2f')\n",
    "plt.title('Correlation Heatmap')\n",
    "plt.show()"
   ]
  },
  {
   "cell_type": "code",
   "execution_count": null,
   "metadata": {
    "scrolled": true
   },
   "outputs": [],
   "source": [
    "columns = [ 'UsedOrNew', 'Transmission', 'DriveType', 'FuelType', 'CylindersinEngine', 'BodyType', 'Doors', 'Seats']\n",
    "\n",
    "for column in columns:\n",
    "    fig = px.pie(df, names = column, title = \"Distribution of \"+column)\n",
    "    fig.update_layout(\n",
    "        autosize=False,\n",
    "        width=1000,   \n",
    "        height=600    \n",
    "    )\n",
    "    fig.show()\n"
   ]
  },
  {
   "cell_type": "markdown",
   "metadata": {},
   "source": [
    "##### Percentage of NaN values"
   ]
  },
  {
   "cell_type": "code",
   "execution_count": null,
   "metadata": {},
   "outputs": [],
   "source": [
    "percentage_nulls = np.round((df.isnull().sum()/len(df)*100).sort_values(ascending=False))\n",
    "percentage_nulls = percentage_nulls[percentage_nulls != 0]\n",
    "percentage_nulls"
   ]
  },
  {
   "cell_type": "code",
   "execution_count": null,
   "metadata": {},
   "outputs": [],
   "source": [
    "df_price = df.copy()\n",
    "df_price[\"Kilometres\"] = pd.to_numeric(df_price[\"Kilometres\"], errors='coerce')\n",
    "df_price[\"Price\"] = pd.to_numeric(df_price[\"Price\"], errors='coerce')\n",
    "df_price.dropna(subset=[\"Kilometres\", \"Price\"], inplace=True)\n",
    "\n",
    "\n",
    "target = df_price['Price']\n",
    "column_sels = ['Year', 'Kilometres']\n",
    "fig, axs = plt.subplots(2, 1, figsize=(12, 6))\n",
    "\n",
    "for i, col in enumerate(column_sels):\n",
    "    sns.regplot(x=col, y=target, data=df_price, ax=axs[i])\n",
    "    \n",
    "plt.tight_layout(pad=0.4, w_pad=0.5, h_pad=5.0)\n",
    "plt.show()"
   ]
  },
  {
   "cell_type": "markdown",
   "metadata": {},
   "source": [
    "## 3.2 Manipulation of the Data\n",
    "\n",
    "##### Data manipulation refers to the process of making changes, transformations, or adjustments to a dataset, often involving tasks such as \n",
    "* cleaning \n",
    "* filtering\n",
    "* reformatting \n",
    "* aggregating\n",
    "##### to prepare it for analysis or modeling."
   ]
  },
  {
   "cell_type": "code",
   "execution_count": null,
   "metadata": {},
   "outputs": [],
   "source": [
    "url = 'https://uploads-ssl.webflow.com/5a00e7aa079aa40001b3c4fb/5d5c22e040c6beab16860e8e_data-cleaning-thumb.png'\n",
    "IPython.display.Image(url,  width= 750)"
   ]
  },
  {
   "cell_type": "code",
   "execution_count": null,
   "metadata": {
    "execution": {
     "iopub.execute_input": "2024-01-13T11:57:40.450772Z",
     "iopub.status.busy": "2024-01-13T11:57:40.450374Z",
     "iopub.status.idle": "2024-01-13T11:57:40.476158Z",
     "shell.execute_reply": "2024-01-13T11:57:40.475254Z",
     "shell.execute_reply.started": "2024-01-13T11:57:40.450735Z"
    }
   },
   "outputs": [],
   "source": [
    "# Copying data for preserve original data\n",
    "df2 = df.copy()"
   ]
  },
  {
   "cell_type": "code",
   "execution_count": null,
   "metadata": {
    "execution": {
     "iopub.execute_input": "2024-01-13T11:57:40.477685Z",
     "iopub.status.busy": "2024-01-13T11:57:40.477391Z",
     "iopub.status.idle": "2024-01-13T11:57:40.490143Z",
     "shell.execute_reply": "2024-01-13T11:57:40.489112Z",
     "shell.execute_reply.started": "2024-01-13T11:57:40.477660Z"
    }
   },
   "outputs": [],
   "source": [
    "# Define class \n",
    "class DataFrameManipulator:\n",
    "    def __init__(self, dataframe):\n",
    "        self.dataframe = dataframe\n",
    "\n",
    "    def rename_columns(self, new_names):\n",
    "        self.dataframe.rename(columns=new_names, inplace=True)\n",
    "\n",
    "    def drop_columns(self, columns_to_drop):\n",
    "        self.dataframe.drop(columns=columns_to_drop,axis=1, inplace=True)\n",
    "\n",
    "manipulator = DataFrameManipulator(df2)"
   ]
  },
  {
   "cell_type": "code",
   "execution_count": null,
   "metadata": {},
   "outputs": [],
   "source": [
    "# Renaming\n",
    "manipulator.rename_columns({\"Engine\":\"VolumeEngine(L)\"})\n",
    "manipulator.rename_columns({\"Price\":\"Price(AUD)\"})\n",
    "manipulator.rename_columns({\"FuelConsumption\":\"FuelConsumption(L/100km)\"})"
   ]
  },
  {
   "cell_type": "code",
   "execution_count": null,
   "metadata": {
    "execution": {
     "iopub.execute_input": "2024-01-13T11:57:40.523782Z",
     "iopub.status.busy": "2024-01-13T11:57:40.523513Z",
     "iopub.status.idle": "2024-01-13T11:57:40.695382Z",
     "shell.execute_reply": "2024-01-13T11:57:40.694446Z",
     "shell.execute_reply.started": "2024-01-13T11:57:40.523758Z"
    }
   },
   "outputs": [],
   "source": [
    "df2[\"VolumeEngine(L)\"] = df2['VolumeEngine(L)'].str.split(',', expand=True)[1]\n",
    "df2[\"Seats\"] = df2['Seats'].str.split(' Seats', expand=True)[0]\n",
    "df2[\"Doors\"] = df2['Doors'].str.split(' Doors', expand=True)[0]\n",
    "df2[\"VolumeEngine(L)\"] = df2['VolumeEngine(L)'].str.split(' L', expand=True)[0]\n",
    "df2[\"CylindersinEngine\"] = df2['CylindersinEngine'].str.split(' cyl', expand=True)[0]\n",
    "df2[\"FuelConsumption(L/100km)\"] = df2['FuelConsumption(L/100km)'].str.split(' L', expand=True)[0]"
   ]
  },
  {
   "cell_type": "code",
   "execution_count": null,
   "metadata": {},
   "outputs": [],
   "source": [
    "# Cleaning\n",
    "manipulator.drop_columns(['Brand', 'Model', 'Car/Suv', 'Title',  'Location',\"ColourExtInt\"])\n",
    "df2.dropna(inplace=True)"
   ]
  },
  {
   "cell_type": "code",
   "execution_count": null,
   "metadata": {
    "execution": {
     "iopub.execute_input": "2024-01-13T11:57:40.719110Z",
     "iopub.status.busy": "2024-01-13T11:57:40.718800Z",
     "iopub.status.idle": "2024-01-13T11:57:40.747183Z",
     "shell.execute_reply": "2024-01-13T11:57:40.746302Z",
     "shell.execute_reply.started": "2024-01-13T11:57:40.719084Z"
    },
    "scrolled": false
   },
   "outputs": [],
   "source": [
    "# Exploring unique values\n",
    "for i in df2.columns:\n",
    "    print(df2[i].unique())\n",
    "    print(\"*\"*50+\"\\n\")"
   ]
  },
  {
   "cell_type": "code",
   "execution_count": null,
   "metadata": {
    "execution": {
     "iopub.execute_input": "2024-01-13T11:57:40.862824Z",
     "iopub.status.busy": "2024-01-13T11:57:40.862341Z",
     "iopub.status.idle": "2024-01-13T11:57:40.912352Z",
     "shell.execute_reply": "2024-01-13T11:57:40.911320Z",
     "shell.execute_reply.started": "2024-01-13T11:57:40.862796Z"
    }
   },
   "outputs": [],
   "source": [
    "# Getting dummies\n",
    "df_dummy = pd.get_dummies(df2[[\"BodyType\",\"UsedOrNew\",\"Transmission\",\"DriveType\",\"FuelType\"]])\n",
    "df_reel = pd.concat([df2, df_dummy], axis=1);df_reel.head()"
   ]
  },
  {
   "cell_type": "code",
   "execution_count": null,
   "metadata": {
    "execution": {
     "iopub.execute_input": "2024-01-13T11:57:40.922404Z",
     "iopub.status.busy": "2024-01-13T11:57:40.922073Z",
     "iopub.status.idle": "2024-01-13T11:57:40.932939Z",
     "shell.execute_reply": "2024-01-13T11:57:40.931843Z",
     "shell.execute_reply.started": "2024-01-13T11:57:40.922378Z"
    }
   },
   "outputs": [],
   "source": [
    "# Drop main features\n",
    "df_reel.drop([\"UsedOrNew\",\"Transmission\",\"DriveType\",\"FuelType\",\"BodyType\"], axis =1, inplace = True)"
   ]
  },
  {
   "cell_type": "code",
   "execution_count": null,
   "metadata": {
    "execution": {
     "iopub.execute_input": "2024-01-13T11:57:40.934740Z",
     "iopub.status.busy": "2024-01-13T11:57:40.934284Z",
     "iopub.status.idle": "2024-01-13T11:57:40.962374Z",
     "shell.execute_reply": "2024-01-13T11:57:40.961432Z",
     "shell.execute_reply.started": "2024-01-13T11:57:40.934707Z"
    },
    "scrolled": true
   },
   "outputs": [],
   "source": [
    "df_reel.info()"
   ]
  },
  {
   "cell_type": "code",
   "execution_count": null,
   "metadata": {
    "execution": {
     "iopub.execute_input": "2024-01-13T11:57:40.977361Z",
     "iopub.status.busy": "2024-01-13T11:57:40.977010Z",
     "iopub.status.idle": "2024-01-13T11:57:41.089260Z",
     "shell.execute_reply": "2024-01-13T11:57:41.088403Z",
     "shell.execute_reply.started": "2024-01-13T11:57:40.977335Z"
    }
   },
   "outputs": [],
   "source": [
    "# Object to numeric (convert integer if it is possible)\n",
    "columns = [\"Year\",\"VolumeEngine(L)\",\"FuelConsumption(L/100km)\",\"Kilometres\",\"CylindersinEngine\",\"Doors\",\"Seats\",\"Price(AUD)\"]\n",
    "for column in columns:\n",
    "    df_reel[column] = pd.to_numeric(df_reel[column], errors='coerce', downcast='integer')"
   ]
  },
  {
   "cell_type": "code",
   "execution_count": null,
   "metadata": {
    "execution": {
     "iopub.execute_input": "2024-01-13T11:57:41.090548Z",
     "iopub.status.busy": "2024-01-13T11:57:41.090271Z",
     "iopub.status.idle": "2024-01-13T11:57:41.102080Z",
     "shell.execute_reply": "2024-01-13T11:57:41.101178Z",
     "shell.execute_reply.started": "2024-01-13T11:57:41.090524Z"
    }
   },
   "outputs": [],
   "source": [
    "df_reel.dropna(inplace=True)"
   ]
  },
  {
   "cell_type": "code",
   "execution_count": null,
   "metadata": {
    "execution": {
     "iopub.execute_input": "2024-01-13T11:57:41.111776Z",
     "iopub.status.busy": "2024-01-13T11:57:41.111435Z",
     "iopub.status.idle": "2024-01-13T11:57:41.122198Z",
     "shell.execute_reply": "2024-01-13T11:57:41.121259Z",
     "shell.execute_reply.started": "2024-01-13T11:57:41.111750Z"
    }
   },
   "outputs": [],
   "source": [
    "df_reel.columns"
   ]
  },
  {
   "cell_type": "code",
   "execution_count": null,
   "metadata": {},
   "outputs": [],
   "source": [
    "df_reel.drop([\"Transmission_-\",\"FuelType_-\",\"FuelType_Other\",\"DriveType_Other\",\"Transmission_Manual\",\"UsedOrNew_DEMO\",\"BodyType_Other\"], axis=1, inplace=True)"
   ]
  },
  {
   "cell_type": "markdown",
   "metadata": {},
   "source": [
    "# 4. Modelling\n",
    "## 4.1 Split Train and Test Data\n"
   ]
  },
  {
   "cell_type": "code",
   "execution_count": null,
   "metadata": {},
   "outputs": [],
   "source": [
    "df3 = df_reel.copy()"
   ]
  },
  {
   "cell_type": "code",
   "execution_count": null,
   "metadata": {
    "execution": {
     "iopub.execute_input": "2024-01-13T11:57:41.128067Z",
     "iopub.status.busy": "2024-01-13T11:57:41.127771Z",
     "iopub.status.idle": "2024-01-13T11:57:41.139150Z",
     "shell.execute_reply": "2024-01-13T11:57:41.138012Z",
     "shell.execute_reply.started": "2024-01-13T11:57:41.128041Z"
    }
   },
   "outputs": [],
   "source": [
    "X = df3.drop(\"Price(AUD)\", axis = 1)\n",
    "y = df3[\"Price(AUD)\"]\n",
    "X_train, X_test, y_train, y_test = train_test_split(X,y,test_size=0.20, random_state = 41)"
   ]
  },
  {
   "cell_type": "markdown",
   "metadata": {},
   "source": [
    "## 4.2 Implementation Models\n",
    "### 4.2.1 Linear Regression"
   ]
  },
  {
   "cell_type": "code",
   "execution_count": null,
   "metadata": {
    "execution": {
     "iopub.execute_input": "2024-01-13T11:57:41.198072Z",
     "iopub.status.busy": "2024-01-13T11:57:41.197662Z",
     "iopub.status.idle": "2024-01-13T11:57:43.918100Z",
     "shell.execute_reply": "2024-01-13T11:57:43.916347Z",
     "shell.execute_reply.started": "2024-01-13T11:57:41.198034Z"
    }
   },
   "outputs": [],
   "source": [
    "linear_model = LinearRegression()\n",
    "linear_model.fit(X_train, y_train)"
   ]
  },
  {
   "cell_type": "code",
   "execution_count": null,
   "metadata": {
    "execution": {
     "iopub.status.busy": "2024-01-13T11:57:43.919652Z",
     "iopub.status.idle": "2024-01-13T11:57:43.920234Z",
     "shell.execute_reply": "2024-01-13T11:57:43.919950Z",
     "shell.execute_reply.started": "2024-01-13T11:57:43.919923Z"
    }
   },
   "outputs": [],
   "source": [
    "ypred = linear_model.predict(X_test)\n",
    "print('MAE:', mean_absolute_error(y_test, ypred))\n",
    "print('MSE:', mean_squared_error(y_test, ypred))\n",
    "print('RMSE:', np.sqrt(mean_squared_error(y_test, ypred)))\n",
    "print(\"r2 score: \",r2_score(y_test,ypred))"
   ]
  },
  {
   "cell_type": "code",
   "execution_count": null,
   "metadata": {},
   "outputs": [],
   "source": [
    "ypred = linear_model.predict(X_test)\n",
    "plt.plot(y_test, ypred, \"*\")"
   ]
  },
  {
   "cell_type": "markdown",
   "metadata": {},
   "source": [
    "### 4.2.2 Random Forest Regression\n",
    "\n",
    "##### Trying to increase r2_score by different method\n"
   ]
  },
  {
   "cell_type": "code",
   "execution_count": null,
   "metadata": {
    "execution": {
     "iopub.status.busy": "2024-01-13T11:57:43.921587Z",
     "iopub.status.idle": "2024-01-13T11:57:43.921965Z",
     "shell.execute_reply": "2024-01-13T11:57:43.921803Z",
     "shell.execute_reply.started": "2024-01-13T11:57:43.921786Z"
    }
   },
   "outputs": [],
   "source": [
    "df4 = df_reel.copy()"
   ]
  },
  {
   "cell_type": "code",
   "execution_count": null,
   "metadata": {
    "execution": {
     "iopub.status.busy": "2024-01-13T11:57:43.924824Z",
     "iopub.status.idle": "2024-01-13T11:57:43.925187Z",
     "shell.execute_reply": "2024-01-13T11:57:43.925006Z",
     "shell.execute_reply.started": "2024-01-13T11:57:43.924991Z"
    }
   },
   "outputs": [],
   "source": [
    "df4.head()"
   ]
  },
  {
   "cell_type": "code",
   "execution_count": null,
   "metadata": {
    "execution": {
     "iopub.status.busy": "2024-01-13T11:57:43.926591Z",
     "iopub.status.idle": "2024-01-13T11:57:43.926975Z",
     "shell.execute_reply": "2024-01-13T11:57:43.926809Z",
     "shell.execute_reply.started": "2024-01-13T11:57:43.926791Z"
    }
   },
   "outputs": [],
   "source": [
    "X = df4.drop(\"Price(AUD)\", axis = 1)\n",
    "y = df4[\"Price(AUD)\"]\n",
    "\n",
    "X_train, X_test, y_train, y_test = train_test_split(X,y,test_size=0.20, random_state = 41)"
   ]
  },
  {
   "cell_type": "code",
   "execution_count": null,
   "metadata": {},
   "outputs": [],
   "source": [
    "rfr=randomForestRegressor() \n",
    "rfr.fit(X_train,y_train)"
   ]
  },
  {
   "cell_type": "code",
   "execution_count": null,
   "metadata": {
    "execution": {
     "iopub.status.busy": "2024-01-13T11:57:43.928530Z",
     "iopub.status.idle": "2024-01-13T11:57:43.929025Z",
     "shell.execute_reply": "2024-01-13T11:57:43.928799Z",
     "shell.execute_reply.started": "2024-01-13T11:57:43.928776Z"
    }
   },
   "outputs": [],
   "source": [
    "y_pred = rfr.predict(X_test)\n",
    "\n",
    "mse = mean_squared_error(y_test, y_pred)\n",
    "print(\"Mean Squared Error (MSE):\", mse)\n",
    "\n",
    "rmse = np.sqrt(mse)\n",
    "print(\"Root Mean Squared Error (RMSE):\", rmse)\n",
    "\n",
    "mae = mean_absolute_error(y_test, y_pred)\n",
    "print(\"Mean Absolute Error (MAE):\", mae)\n",
    "\n",
    "r2 = r2_score(y_test, y_pred)\n",
    "print(\"R-squared (R2) Score:\", r2)"
   ]
  },
  {
   "cell_type": "code",
   "execution_count": null,
   "metadata": {},
   "outputs": [],
   "source": [
    "ypred = rfr.predict(X_test)\n",
    "plt.plot(y_test, ypred, \"*\")"
   ]
  },
  {
   "cell_type": "markdown",
   "metadata": {},
   "source": [
    "### 4.2.3 XGBoost Regression\n"
   ]
  },
  {
   "cell_type": "code",
   "execution_count": null,
   "metadata": {
    "execution": {
     "iopub.status.busy": "2024-01-13T11:57:43.930537Z",
     "iopub.status.idle": "2024-01-13T11:57:43.930874Z",
     "shell.execute_reply": "2024-01-13T11:57:43.930723Z",
     "shell.execute_reply.started": "2024-01-13T11:57:43.930707Z"
    }
   },
   "outputs": [],
   "source": [
    "df5 = df_reel.copy()"
   ]
  },
  {
   "cell_type": "code",
   "execution_count": null,
   "metadata": {
    "execution": {
     "iopub.status.busy": "2024-01-13T11:57:43.934309Z",
     "iopub.status.idle": "2024-01-13T11:57:43.934681Z",
     "shell.execute_reply": "2024-01-13T11:57:43.934505Z",
     "shell.execute_reply.started": "2024-01-13T11:57:43.934490Z"
    }
   },
   "outputs": [],
   "source": [
    "X = df5.drop(\"Price(AUD)\", axis = 1)\n",
    "y = df5[\"Price(AUD)\"]\n",
    "\n",
    "X_train, X_test, y_train, y_test = train_test_split(X,y,test_size=0.20, random_state = 41)"
   ]
  },
  {
   "cell_type": "code",
   "execution_count": null,
   "metadata": {
    "execution": {
     "iopub.status.busy": "2024-01-13T11:57:43.936098Z",
     "iopub.status.idle": "2024-01-13T11:57:43.936512Z",
     "shell.execute_reply": "2024-01-13T11:57:43.936343Z",
     "shell.execute_reply.started": "2024-01-13T11:57:43.936324Z"
    }
   },
   "outputs": [],
   "source": [
    "my_model = XGBRegressor()\n",
    "\n",
    "my_model.fit(X_train, y_train, verbose=True)"
   ]
  },
  {
   "cell_type": "code",
   "execution_count": null,
   "metadata": {},
   "outputs": [],
   "source": [
    "y_pred = my_model.predict(X_test)\n",
    "\n",
    "# Calculate MSE\n",
    "mse = mean_squared_error(y_test, y_pred)\n",
    "print(\"Mean Squared Error (MSE):\", mse)\n",
    "\n",
    "# Calculate RMSE\n",
    "rmse = np.sqrt(mse)\n",
    "print(\"Root Mean Squared Error (RMSE):\", rmse)\n",
    "\n",
    "# Calculate MAE\n",
    "mae = mean_absolute_error(y_test, y_pred)\n",
    "print(\"Mean Absolute Error (MAE):\", mae)\n",
    "\n",
    "# Calculate R2 score\n",
    "r2 = r2_score(y_test, y_pred)\n",
    "print(\"R-squared (R2) Score:\", r2)"
   ]
  },
  {
   "cell_type": "code",
   "execution_count": null,
   "metadata": {},
   "outputs": [],
   "source": [
    "ypred = my_model.predict(X_test)\n",
    "plt.plot(y_test, ypred, \"*\")"
   ]
  },
  {
   "cell_type": "markdown",
   "metadata": {},
   "source": [
    "# 5. Evaluation Results\n",
    "##### Accuracy results: \n",
    "\n",
    ">1. Lineer regression = 0.5952889703737149\n",
    ">2. Random Forest Regression = 0.8513690157792952\n",
    ">3. XGBoost Regression = 0.8525739759646642\n",
    "\n",
    "##### Therefore, XGBoost Regression was the best performing model for this analysis."
   ]
  }
 ],
 "metadata": {
  "kaggle": {
   "accelerator": "none",
   "dataSources": [
    {
     "datasetId": 4065736,
     "sourceId": 7062095,
     "sourceType": "datasetVersion"
    }
   ],
   "dockerImageVersionId": 30627,
   "isGpuEnabled": false,
   "isInternetEnabled": true,
   "language": "python",
   "sourceType": "notebook"
  },
  "kernelspec": {
   "display_name": "Python 3 (ipykernel)",
   "language": "python",
   "name": "python3"
  },
  "language_info": {
   "codemirror_mode": {
    "name": "ipython",
    "version": 3
   },
   "file_extension": ".py",
   "mimetype": "text/x-python",
   "name": "python",
   "nbconvert_exporter": "python",
   "pygments_lexer": "ipython3",
   "version": "3.10.9"
  }
 },
 "nbformat": 4,
 "nbformat_minor": 4
}
